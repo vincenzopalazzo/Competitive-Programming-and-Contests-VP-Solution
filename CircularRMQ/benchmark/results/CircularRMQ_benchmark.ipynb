{
 "cells": [
  {
   "cell_type": "markdown",
   "id": "turkish-intensity",
   "metadata": {},
   "source": [
    "# Circular Range Minimum Query benchmarks\n",
    "\n",
    "The solution at the problem Range Minimum Query was proposed with three different solutions, such as Naive Solution, Segment Tree solution, and an improvement of performance with Segment Tree with Lazy propagation.\n",
    "\n",
    "All the implementation of this solution are on the Repository [Competitive-Programming-and-Contests-VP-Solution](https://vincenzopalazzo.github.io/Competitive-Programming-and-Contests-VP-Solution/Appendix/report_experiment/RMQ/) and the implementation of Segment Tree and Segment Tree with Lazy Propagation are on the repository [cpstl](https://vincenzopalazzo.github.io/cpstl/).\n",
    "\n",
    "## Circular Range Minimum Query (RMQ) problem.\n",
    "\n",
    "Circular RMQ is a problem available on [codeforce](https://codeforces.com/problemset/problem/52/C) that asks to answer two types of queries on a circular array, where also the query the operation is circular, so that can contain a circular segment.\n",
    "\n",
    "Where the query type are:\n",
    "\n",
    "\t- Increment (L, R, value): Increases each element on the segment [L, R] (inclusively) by the value;\n",
    "\t- RMQ (value, index): returns minimal value on the segment [L, R] (inclusively). \n",
    "    \n",
    "[On the repository](https://vincenzopalazzo.github.io/Competitive-Programming-and-Contests-VP-Solution/Appendix/report_experiment/RMQ/) there are two solutions that solve the problem with Segment Tree and a Segment tree with Lazy Propagation.\n",
    "In addition to this solution, we will see that the solution with the lazy propagation technique is faster with the update on a sub-range [L, R] than the Segment Tree. However, the lazy propagation doesn't have the same benefit with the update on a single element, how we can see in the [RMQ benchmarks](https://vincenzopalazzo.github.io/Competitive-Programming-and-Contests-VP-Solution/Appendix/report_experiment/RMQ/)."
   ]
  },
  {
   "cell_type": "markdown",
   "id": "loved-discretion",
   "metadata": {},
   "source": [
    "### Segment Tree solution vs Lazy Segment Tree\n",
    "\n",
    "The solution proposed is the same for both Segment tree implementations, the only change is the logic inside the implementation, but a solution used in the benchmark is reported below\n",
    "\n",
    "```cpp\n",
    "template <typename T>\n",
    "struct Query {\n",
    "    size_t start;\n",
    "    size_t end;\n",
    "    T update_val = INT64_MAX;\n",
    "    bool update = false;\n",
    " \n",
    "    Query(size_t start, size_t anEnd) : start(start), end(anEnd) {}\n",
    "    Query(size_t start, size_t anEnd, T updateVal, bool update) : start(start), end(anEnd), update_val(updateVal),\n",
    "                                                                  update(update) {}\n",
    "};\n",
    " \n",
    "template <typename T>\n",
    "std::vector<T> calculate_minimum_rmq_query_lazy(cpstl::LazySegmentTree<T> &segmentTree, std::vector<Query<T>> const &queries)\n",
    "{\n",
    "    std::vector<T> results;\n",
    "    for (auto &query : queries) {\n",
    "        if (query.start > query.end) {\n",
    "            if (query.update) {\n",
    "                segmentTree.update_range(0, query.end, query.update_val);\n",
    "                segmentTree.update_range(query.start, segmentTree.size() - 1, query.update_val);\n",
    "                continue;\n",
    "            }\n",
    "            //Is a circular RMQ query\n",
    "            auto val_one = segmentTree.range_query(0, query.end);\n",
    "            auto val_two = segmentTree.range_query(query.start, segmentTree.size() - 1);\n",
    "            auto min = std::min(val_one, val_two);\n",
    "            results.push_back(min);\n",
    "            continue;\n",
    "        }\n",
    "        if (query.update) {\n",
    "            segmentTree.update_range(query.start, query.end, query.update_val);\n",
    "            continue;\n",
    "        }\n",
    "        // It is a normal RMQ query\n",
    "        auto val = segmentTree.range_query(query.start, query.end);\n",
    "        results.push_back(val);\n",
    "    }\n",
    "    return results;\n",
    "}\n",
    "\n",
    "```\n",
    "\n",
    "With this problem, we have a lot of difference in resolution time between the two different implementations, how the Figure below shows."
   ]
  },
  {
   "cell_type": "code",
   "execution_count": 3,
   "id": "unsigned-franklin",
   "metadata": {},
   "outputs": [
    {
     "data": {
      "image/png": "[encoded data removed]",
      "text/plain": [
       "<Figure size 1440x360 with 1 Axes>"
      ]
     },
     "metadata": {},
     "output_type": "display_data"
    }
   ],
   "source": [
    "from core_chart import make_comparison_chart\n",
    "\n",
    "make_comparison_chart()"
   ]
  },
  {
   "cell_type": "markdown",
   "id": "light-latitude",
   "metadata": {},
   "source": [
    "The chart shows that the Segment Tree implementation without lazy propagation is slower than the Segment Tree with Lazy Propagation. However, the performance of Segment Tree could be improved with some a good implementation of update range, but this will not cover in this research because the Segment Tree works well with the update at one single position how the RMQ benchmarks show. For this reason, we will use the Segment Tree with Lazy propagation when we need to make updates on a sub-range."
   ]
  }
 ],
 "metadata": {
  "kernelspec": {
   "display_name": "Python 3",
   "language": "python",
   "name": "python3"
  },
  "language_info": {
   "codemirror_mode": {
    "name": "ipython",
    "version": 3
   },
   "file_extension": ".py",
   "mimetype": "text/x-python",
   "name": "python",
   "nbconvert_exporter": "python",
   "pygments_lexer": "ipython3",
   "version": "3.8.5"
  }
 },
 "nbformat": 4,
 "nbformat_minor": 5
}
