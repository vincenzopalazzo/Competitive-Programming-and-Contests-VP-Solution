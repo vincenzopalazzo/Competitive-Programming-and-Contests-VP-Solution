{
 "cells": [
  {
   "cell_type": "markdown",
   "metadata": {
    "ipub": {
     "titlepage": {
      "author": "Vincenzo Palazzo",
      "email": "v.palazzo1@studenti.unipi.it",
      "institution": [
       "University of Pisa"
      ],
      "logo": "https://seeklogo.com/images/U/universita-di-pisa-logo-989F4E3120-seeklogo.com.png",
      "title": "Benchmark Sliding Window Maximum implementation"
     }
    }
   },
   "source": [
    "# Benchmark about the Sliding Window Maximum Problem\n",
    "\n",
    "## Problem\n",
    "\n",
    "Given an array A and an integer K. Find the maximum for each and every contiguous subarray of size K.\n",
    "\n",
    "## Introduction\n",
    "\n",
    "### Simple solution (trivial?)\n",
    "\n",
    "The solutions to solve the problem were presented at the lecture of 16/09/2020, and the solutions presented are three, described below.\n",
    "\n",
    "The simple (trivial) solution presented at the lesson use two **for**, and a C++ implementation is reported below\n",
    "\n",
    "```cpp\n",
    "std::vector<int> max_sub_array_naive_sol(const std::vector<int> &input, int size_sub_array)\n",
    "{\n",
    "    vector<int> max_values;\n",
    "    max_values.reserve(input.size() - size_sub_array + 1);\n",
    "    for (int i = 0; i <= input.size() - size_sub_array; i++) {\n",
    "        int max_value = input.at(i);\n",
    "        for (int j = 1; j < size_sub_array; j++) {\n",
    "            if (max_value < input.at(i + j)) {\n",
    "                max_value = input.at(i + j);\n",
    "            }\n",
    "        }\n",
    "        max_values.push_back(max_value);\n",
    "    }\n",
    "\n",
    "    return max_values;\n",
    "}\n",
    "```\n",
    "\n",
    "The cost of this algorithm is `O(N^2)` of computation, or a better description is `O(n*k)` because the internal for work only on sub array dimension. But in the wrost cases the algorithm cost is  `O(N^2)` when N = k.\n",
    "\n",
    "\n",
    "### Balance Binary Tree solution (RbTree)\n",
    "\n",
    "The second solution of the problem suggest to use the balance tree, and a C++ implementation is reported below:\n",
    "\n",
    "\n",
    ">std::multiset is an associative container that contains a sorted set of objects of type Key. Unlike set, multiple keys with equivalent values are allowed. Sorting is done using the key comparison function Compare. Search, insertion, and removal operations have logarithmic complexity.\n",
    "\n",
    "\n",
    "```cpp\n",
    "std::vector<int> max_sub_array_bbst_sol(const std::vector<int> &input, int size_sub_array)\n",
    "{\n",
    "    std::vector<int> result;\n",
    "    result.reserve(input.size() - size_sub_array + 1);\n",
    "    std::multiset<int> balanced_tree;\n",
    "    for (int i = 0; i < input.size(); i++) {\n",
    "        balanced_tree.insert(input.at(i));\n",
    "        if (i >= size_sub_array - 1) {\n",
    "            if (i - size_sub_array >= 0) {\n",
    "                balanced_tree.erase(balanced_tree.find(input.at(i - size_sub_array)));\n",
    "            }\n",
    "            int max_el = *balanced_tree.rbegin();\n",
    "            result.push_back(max_el);\n",
    "        }\n",
    "    }\n",
    "    return result;\n",
    "}\n",
    "```\n",
    "\n",
    "The cost of this algorithm in terms of computation is  `O(n log n)`.\n",
    "\n",
    "\n",
    "### FIFO solution (advanced)\n",
    "\n",
    "The final solution proposes to use the FIFO queue to reduce the cost of the algorithm to linear time, and a C++ implementation is reported below\n",
    "\n",
    "```cpp\n",
    "std::vector<int> max_sub_array_deck_sol(const std::vector<int> &input, int size_sub_array)\n",
    "{\n",
    "    std::vector<int> result;\n",
    "    result.reserve(input.size() - size_sub_array + 1);\n",
    "    std::deque<int> priority_queue;\n",
    "    for (int i = 0; i < input.size(); i++) {\n",
    "        remove_minors_element(input, priority_queue, input.at(i));\n",
    "        priority_queue.push_back(i);\n",
    "        remove_element_out_sub_array( priority_queue, i, size_sub_array);\n",
    "        if (i - (size_sub_array - 1) >= 0) {\n",
    "            int max = input.at(priority_queue.front());\n",
    "            result.push_back(max);\n",
    "        }\n",
    "    }\n",
    "    return result;\n",
    "}\n",
    "```\n",
    "\n",
    "Where the `remove_minors_element` and `remove_element_out_sub_array` are two utility functions reported below\n",
    "\n",
    "```cpp\n",
    "template<class T>\n",
    "inline void remove_minors_element(const std::vector<int> &input, std::deque<T> &priority_queue, int new_element)\n",
    "{\n",
    "    while (!priority_queue.empty() && input[priority_queue.back()] <= new_element) {\n",
    "        priority_queue.pop_back();\n",
    "    }\n",
    "}\n",
    "\n",
    "template<class T>\n",
    "inline void remove_element_out_sub_array(std::deque<T> &priority_queue, int actual_pos, int size_sub_array)\n",
    "{\n",
    "    while  (!priority_queue.empty() && actual_pos - size_sub_array >= priority_queue.front()) {\n",
    "        priority_queue.pop_front();\n",
    "    }\n",
    "}\n",
    "```\n",
    "\n",
    "At this point, an interesting test test is to understend if the C++ STL makes the code slower that a pure C++ implementation of the structure, and a good test is to reproduce the second solution with a pure C++ implementation of RB Tree. The impelementation in analisis is called Red-Black-Tree, and it is available on Github at the following link https://github.com/anandarao/Red-Black-Tree.\n",
    "\n",
    "The motivation to choose this implementation is the number of star on Github (38 stars), it help to assume that the implementation could tested from open-source community.\n",
    "\n",
    "In additoon, the implementation of the solution is the same of the solution reported in the section about the description of \"Balance Binary Tree solution\".\n",
    "\n",
    "The bechmark reported inside this document was made with [google benchmark](https://github.com/google/benchmark) to test the different implementation with the two solutions of a balanced tree implementation.\n",
    "\n",
    "Footer Note: The RB Tree implementation report some bugs with some type of input, for this reason at the moment are reporting an old result with Rb Tree."
   ]
  },
  {
   "cell_type": "code",
   "execution_count": 9,
   "metadata": {},
   "outputs": [],
   "source": [
    "import pandas\n",
    "import json\n",
    "%matplotlib inline\n",
    "import matplotlib as mpl\n",
    "import matplotlib.pyplot as plt\n",
    "from IPython.display import display_html\n",
    "\n",
    "mpl.style.use('ggplot')\n",
    "\n",
    "\n",
    "result_file = open('result.json', 'r')\n",
    "result_tree_imp = open('bt_result.json', 'r')\n",
    "result_old = open('result_old.json', 'r')\n",
    "\n",
    "result_json = json.loads(result_file.read())\n",
    "result_tree_json = json.loads(result_tree_imp.read())\n",
    "result_old_json = json.loads(result_old.read())\n",
    "\n",
    "bm_list = result_json['benchmarks']\n",
    "bm_tree_list = result_tree_json['benchmarks']\n",
    "bm_old = result_old_json['benchmarks']\n"
   ]
  },
  {
   "cell_type": "markdown",
   "metadata": {},
   "source": [
    "## Bechmark balanced binary tree"
   ]
  },
  {
   "cell_type": "code",
   "execution_count": 10,
   "metadata": {
    "scrolled": true
   },
   "outputs": [
    {
     "data": {
      "image/png": "[encoded data removed]",
      "text/plain": [
       "<Figure size 1440x360 with 1 Axes>"
      ]
     },
     "metadata": {},
     "output_type": "display_data"
    }
   ],
   "source": [
    "bm_rb_res = []\n",
    "bm_stl_res = []\n",
    "bm_input = []\n",
    "bm_label = []\n",
    "bm_stl_input = []\n",
    "bm_stl_label = []\n",
    "for bm in bm_old:\n",
    "    if  'RB_Tree' in bm['run_name']:\n",
    "        bm_rb_res.append(bm['real_time'])\n",
    "        bm_input.append(bm['run_name'].split('/')[2])\n",
    "        bm_label.append('{}/{}'.format(bm['run_name'].split('/')[2], bm['run_name'].split('/')[1]))\n",
    "    elif 'Balance_Tree' in bm['run_name']:\n",
    "        bm_stl_res.append(bm['real_time'])\n",
    "        bm_stl_input.append(bm['run_name'].split('/')[1])\n",
    "\n",
    "stl = pandas.DataFrame({\n",
    "    'multiset STL': bm_stl_res,\n",
    "    'RBTree': bm_rb_res\n",
    "    }, index=bm_label)\n",
    "\n",
    "stl.plot.bar(rot=0, figsize=(20,5))\n",
    "bm_rb_res = []\n",
    "bm_stl_res = []\n",
    "bm_input = []\n",
    "bm_label = []"
   ]
  },
  {
   "cell_type": "markdown",
   "metadata": {},
   "source": [
    "The result looks like that the pure implementation is slower then the C++ multiset implementation, this result needs another proof to see if the c++ STL is faster than the pure implementation or the pure implementation need some addition analisis.\n",
    "\n",
    "To proof if the C++ STL is more perfermed than the pure c++ implementation, the additional test is to made a benchmark of binary three implementation. In fact, the result below, shows that execution time of the insert operation on the set C++ STL strucutre and a Binary thee pure C++ implementation."
   ]
  },
  {
   "cell_type": "code",
   "execution_count": 11,
   "metadata": {},
   "outputs": [
    {
     "data": {
      "text/plain": [
       "<AxesSubplot:>"
      ]
     },
     "execution_count": 11,
     "metadata": {},
     "output_type": "execute_result"
    },
    {
     "data": {
      "image/png": "[encoded data removed]",
      "text/plain": [
       "<Figure size 1440x576 with 1 Axes>"
      ]
     },
     "metadata": {},
     "output_type": "display_data"
    }
   ],
   "source": [
    "bm_bt_res = []\n",
    "bm_stl_res = []\n",
    "bm_input = []\n",
    "bm_label = []\n",
    "bm_stl_input = []\n",
    "for bm in bm_tree_list:\n",
    "    if  'BM_STL' in bm['run_name']:\n",
    "        bm_stl_res.append(bm['real_time'])\n",
    "        bm_input.append(bm['run_name'].split('/')[1])\n",
    "        bm_label.append(bm['run_name'].split('/')[1])\n",
    "    else:\n",
    "        bm_bt_res.append(bm['real_time'])\n",
    "        bm_input.append(bm['run_name'].split('/')[1])\n",
    "        \n",
    "stl = pandas.DataFrame({\n",
    "    'set STL': bm_stl_res,\n",
    "    'BTree': bm_bt_res\n",
    "    }, index=bm_label)\n",
    "\n",
    "stl.plot.bar(rot=0, figsize=(20,8))"
   ]
  },
  {
   "cell_type": "markdown",
   "metadata": {},
   "source": [
    "The result shows that the insert on pure C++ binary tree is more quickly than the insert on set from C++ STL. I can assume that on pure Red and Black tree implementation reported above could have some performans leaks on the balance operation."
   ]
  },
  {
   "cell_type": "markdown",
   "metadata": {},
   "source": [
    "Foot Note: The implementation of pure C++ implementation of Binary Tree in not available on Github yet (Coming soon)."
   ]
  },
  {
   "cell_type": "markdown",
   "metadata": {},
   "source": [
    "## Comparison between solutions proposed at the lesson."
   ]
  },
  {
   "cell_type": "code",
   "execution_count": 12,
   "metadata": {},
   "outputs": [
    {
     "data": {
      "text/plain": [
       "<AxesSubplot:>"
      ]
     },
     "execution_count": 12,
     "metadata": {},
     "output_type": "execute_result"
    },
    {
     "data": {
      "image/png": "[encoded data removed]",
      "text/plain": [
       "<Figure size 1440x576 with 1 Axes>"
      ]
     },
     "metadata": {},
     "output_type": "display_data"
    }
   ],
   "source": [
    "bm_stl_res = []\n",
    "bm_fifo_res = []\n",
    "bm_naive_res = []\n",
    "bm_stl_input = []\n",
    "bm_fifo_input = []\n",
    "bm_naive_input = []\n",
    "bm_label = []\n",
    "for bm in bm_list:\n",
    "    if 'Balance_Tree' in bm['run_name']:\n",
    "        bm_stl_res.append(bm['real_time'])\n",
    "        bm_stl_input.append(bm['run_name'].split('/')[1])\n",
    "        bm_label.append(bm['run_name'].split('/')[1])\n",
    "    elif 'FIFO' in bm['run_name']:\n",
    "        bm_fifo_res.append(bm['real_time'])\n",
    "        bm_fifo_input.append(bm['run_name'].split('/')[1])\n",
    "    elif 'NAIVE_SOL' in bm['run_name']:\n",
    "        bm_naive_res.append(bm['real_time'])\n",
    "        bm_naive_input.append(bm['run_name'].split('/')[1])\n",
    "\n",
    "summary = pandas.DataFrame({\n",
    "    'multiset STL': bm_stl_res,\n",
    "    'FIFO': bm_fifo_res\n",
    "    }, index=bm_label)\n",
    "\n",
    "summary.plot.bar(rot=0, figsize=(20,8))\n"
   ]
  },
  {
   "cell_type": "markdown",
   "metadata": {},
   "source": [
    "The simple solution can not be inside the chart above because the difference about the time is very hight, and the result is reported inside the chart below."
   ]
  },
  {
   "cell_type": "code",
   "execution_count": 13,
   "metadata": {
    "scrolled": true
   },
   "outputs": [
    {
     "data": {
      "text/plain": [
       "<AxesSubplot:>"
      ]
     },
     "execution_count": 13,
     "metadata": {},
     "output_type": "execute_result"
    },
    {
     "data": {
      "image/png": "[encoded data removed]",
      "text/plain": [
       "<Figure size 1440x432 with 1 Axes>"
      ]
     },
     "metadata": {},
     "output_type": "display_data"
    }
   ],
   "source": [
    "summary = pandas.DataFrame({\n",
    "    'STL multiset': bm_stl_res,\n",
    "    'Simple': bm_naive_res,\n",
    "    'FIFO': bm_fifo_res\n",
    "    }, index=bm_label)\n",
    "\n",
    "summary.plot.bar(rot=0, figsize=(20,6))"
   ]
  },
  {
   "cell_type": "code",
   "execution_count": 14,
   "metadata": {},
   "outputs": [
    {
     "data": {
      "text/html": [
       "<table style=\"display:inline\" border=\"1\" class=\"dataframe\">\n",
       "  <thead>\n",
       "    <tr style=\"text-align: right;\">\n",
       "      <th></th>\n",
       "      <th>FIFO</th>\n",
       "      <th>SLT</th>\n",
       "      <th>Simple</th>\n",
       "    </tr>\n",
       "  </thead>\n",
       "  <tbody>\n",
       "    <tr>\n",
       "      <th>4</th>\n",
       "      <td>3.440008e+08</td>\n",
       "      <td>1.080195e+09</td>\n",
       "      <td>1.833814e+08</td>\n",
       "    </tr>\n",
       "    <tr>\n",
       "      <th>8</th>\n",
       "      <td>3.505077e+08</td>\n",
       "      <td>1.218484e+09</td>\n",
       "      <td>3.276240e+08</td>\n",
       "    </tr>\n",
       "    <tr>\n",
       "      <th>16</th>\n",
       "      <td>3.526658e+08</td>\n",
       "      <td>1.365307e+09</td>\n",
       "      <td>5.892686e+08</td>\n",
       "    </tr>\n",
       "    <tr>\n",
       "      <th>32</th>\n",
       "      <td>3.546191e+08</td>\n",
       "      <td>1.485389e+09</td>\n",
       "      <td>1.055331e+09</td>\n",
       "    </tr>\n",
       "    <tr>\n",
       "      <th>64</th>\n",
       "      <td>3.585962e+08</td>\n",
       "      <td>1.644734e+09</td>\n",
       "      <td>1.895299e+09</td>\n",
       "    </tr>\n",
       "    <tr>\n",
       "      <th>128</th>\n",
       "      <td>3.562465e+08</td>\n",
       "      <td>1.793159e+09</td>\n",
       "      <td>3.547022e+09</td>\n",
       "    </tr>\n",
       "    <tr>\n",
       "      <th>256</th>\n",
       "      <td>3.620313e+08</td>\n",
       "      <td>1.888812e+09</td>\n",
       "      <td>6.860013e+09</td>\n",
       "    </tr>\n",
       "    <tr>\n",
       "      <th>512</th>\n",
       "      <td>3.551575e+08</td>\n",
       "      <td>2.035680e+09</td>\n",
       "      <td>1.337457e+10</td>\n",
       "    </tr>\n",
       "    <tr>\n",
       "      <th>1024</th>\n",
       "      <td>3.501699e+08</td>\n",
       "      <td>2.244666e+09</td>\n",
       "      <td>2.642430e+10</td>\n",
       "    </tr>\n",
       "    <tr>\n",
       "      <th>2048</th>\n",
       "      <td>3.524418e+08</td>\n",
       "      <td>2.376910e+09</td>\n",
       "      <td>5.259802e+10</td>\n",
       "    </tr>\n",
       "    <tr>\n",
       "      <th>4096</th>\n",
       "      <td>3.526584e+08</td>\n",
       "      <td>2.484435e+09</td>\n",
       "      <td>1.063239e+11</td>\n",
       "    </tr>\n",
       "    <tr>\n",
       "      <th>8192</th>\n",
       "      <td>3.583806e+08</td>\n",
       "      <td>2.707969e+09</td>\n",
       "      <td>2.091792e+11</td>\n",
       "    </tr>\n",
       "    <tr>\n",
       "      <th>16384</th>\n",
       "      <td>3.563275e+08</td>\n",
       "      <td>2.930081e+09</td>\n",
       "      <td>4.161109e+11</td>\n",
       "    </tr>\n",
       "  </tbody>\n",
       "</table style=\"display:inline\">"
      ]
     },
     "metadata": {},
     "output_type": "display_data"
    }
   ],
   "source": [
    "table = {\n",
    "    'FIFO': bm_fifo_res,\n",
    "    'SLT': bm_stl_res,\n",
    "    'Simple': bm_naive_res\n",
    "}\n",
    "\n",
    "df1 = pandas.DataFrame(data=table, index=bm_label)\n",
    "\n",
    "col = [df1]\n",
    "\n",
    "html_str=''\n",
    "for df in col:\n",
    "    html_str+=df.to_html()\n",
    "display_html(html_str.replace('table','table style=\"display:inline\"'),raw=True)"
   ]
  },
  {
   "cell_type": "markdown",
   "metadata": {},
   "source": [
    "## Conclusion\n",
    "\n",
    "A conclusion is that the solutions give a different result for different dimensions of k and N, in addition, the solution with the FIFO is very fast, and this benchmark gives us the proof. However, from the benchmark with the Red and black tree is possible noted some result that needs more analisis to see if is possible do better than the C++ STL.\n",
    "\n",
    "Foter note 1: The benchmarks code can be optimized, because each benchmark uses a different input with the same size and same value of k but the valude generate by rand() function.\n",
    "\n",
    "\n",
    "Foter note 2: To generate the value of K and N inside the benchmark are used two different exponential functions such as:\n",
    "\n",
    "- K = 2^i, with i = [1:14]\n",
    "\n",
    "- N = 2^21 "
   ]
  }
 ],
 "metadata": {
  "celltoolbar": "Edit Metadata",
  "ipub": {
   "titlepage": {
    "author": "Vincenzo Palazzo",
    "email": "v.palazzo1@studenti.unipi.it",
    "institution": [
     "University of Pisa"
    ],
    "logo": "https://seeklogo.com/images/U/universita-di-pisa-logo-989F4E3120-seeklogo.com.png",
    "title": "Benchmark Sliding Window Maximum implementation"
   }
  },
  "kernelspec": {
   "display_name": "Python 3",
   "language": "python",
   "name": "python3"
  },
  "language_info": {
   "codemirror_mode": {
    "name": "ipython",
    "version": 3
   },
   "file_extension": ".py",
   "mimetype": "text/x-python",
   "name": "python",
   "nbconvert_exporter": "python",
   "pygments_lexer": "ipython3",
   "version": "3.6.9"
  }
 },
 "nbformat": 4,
 "nbformat_minor": 4
}
