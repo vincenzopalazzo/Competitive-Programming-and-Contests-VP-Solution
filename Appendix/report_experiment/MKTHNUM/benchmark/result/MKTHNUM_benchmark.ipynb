{
 "cells": [
  {
   "cell_type": "markdown",
   "id": "respiratory-setting",
   "metadata": {},
   "source": [
    "# MKTHNUM Benchmarks\n",
    "\n",
    "To solve the problem MKTHNUM by [Spoj](https://www.spoj.com/) are proposed two different solutions that use two different types of Segment Tree, one solution uses the Segment Tree with Persistence technique, and the second solution use a custom implementation of the Segment Tree, where in each node is stored a Balanced Binary Tree with the element in the range _[L, R]_.\n",
    "\n",
    "## Problem\n",
    "\n",
    "Given an array of _N_ of different integer numbers, the algorithm needs to answer a sequence of queries\n",
    "with the following format _Q(L, R, K)_ where _L_ and _R is the range _[L, R]_ where the algorithm needs to return the _Kth_ element in the range.\n",
    "\n",
    "\n",
    "In particular, the query needs to be able to answer a question like \"What would be the k-th number in a range _[i, j]_, if this the element of this\n",
    "subarray was sorted?\"\n",
    "\n",
    "#### Example \n",
    "\n",
    "Consider an array like the array A = {1, 5, 2, 6, 3, 7, 4}. Where and query can ask to find the * 3rd* number in the sorted segment from _[2, 5].\n",
    "\n",
    "After sorting the elements in the range _[2, 5]_, we get the segment composed from the following element {2, 3, 5, 6} and the third number in the range is 5, and therefore the correct answer to the query is 5.\n",
    "\n",
    "## Solution with a custom implementation of Segment Tree.\n",
    "\n",
    "The basic idea to solve this problem is to store a Balanced Binary Tree in each node of the segment, the balanced binary tree help to maintain the element stored inside the segments.\n",
    "An implementation is available on the Github repository [Competitive-Programming-and-Contests-VP-Solution](https://github.com/vincenzopalazzo/Competitive-Programming-and-Contests-VP-Solution).\n",
    "However, the time complexity is not enough to solve the problem with the online Judge, and the C++ solution that gets a Time Limit Exceeded available at the following [link](https://www.spoj.com/status/MKTHNUM,macros1/).\n",
    "\n",
    "To solve with success the problem with the online Judge we need to use Persistent Tree, and the solution is described in the next Section.\n",
    "\n",
    "## Solution with Persistent Segment Tree\n",
    "\n",
    "Before introducing the solution, we need to introduce a limitation in the previous solution, that is on the Sorting element, in this problem, there isn't a present update query and this meant that the input array will not change during the execution of the algorithm. With this observation, we can say that is possible to sort the array before build the segment tree and it can help to improve the solution time of the previous solution.\n",
    "\n",
    "The solution with Persistent Segment Tree uses this observation to make a simple remapping of them and build an incremental Persistent Segment Tree, and as the last step of the algorithm, we perform all the query of the problem on the Segment Tree. "
   ]
  },
  {
   "cell_type": "code",
   "execution_count": null,
   "id": "caring-kitty",
   "metadata": {},
   "outputs": [],
   "source": []
  }
 ],
 "metadata": {
  "kernelspec": {
   "display_name": "Python 3",
   "language": "python",
   "name": "python3"
  },
  "language_info": {
   "codemirror_mode": {
    "name": "ipython",
    "version": 3
   },
   "file_extension": ".py",
   "mimetype": "text/x-python",
   "name": "python",
   "nbconvert_exporter": "python",
   "pygments_lexer": "ipython3",
   "version": "3.8.5"
  }
 },
 "nbformat": 4,
 "nbformat_minor": 5
}
