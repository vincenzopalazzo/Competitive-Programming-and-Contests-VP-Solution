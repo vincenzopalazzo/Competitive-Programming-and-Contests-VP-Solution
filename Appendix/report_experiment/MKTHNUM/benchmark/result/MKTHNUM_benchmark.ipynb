{
 "cells": [
  {
   "cell_type": "markdown",
   "id": "removed-bullet",
   "metadata": {},
   "source": [
    "# MKTHNUM Benchmarks\n",
    "\n",
    "To solve the problem MKTHNUM by []() are proposed two different solution that use two different type of Segment Tree "
   ]
  }
 ],
 "metadata": {
  "kernelspec": {
   "display_name": "Python 3",
   "language": "python",
   "name": "python3"
  },
  "language_info": {
   "codemirror_mode": {
    "name": "ipython",
    "version": 3
   },
   "file_extension": ".py",
   "mimetype": "text/x-python",
   "name": "python",
   "nbconvert_exporter": "python",
   "pygments_lexer": "ipython3",
   "version": "3.8.5"
  }
 },
 "nbformat": 4,
 "nbformat_minor": 5
}
