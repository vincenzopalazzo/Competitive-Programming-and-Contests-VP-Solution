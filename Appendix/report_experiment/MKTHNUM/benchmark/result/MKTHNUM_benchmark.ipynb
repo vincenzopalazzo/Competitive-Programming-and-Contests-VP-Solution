{
 "cells": [
  {
   "cell_type": "markdown",
   "id": "respiratory-setting",
   "metadata": {},
   "source": [
    "# MKTHNUM Benchmarks\n",
    "\n",
    "To solve the problem MKTHNUM by [Spoj](https://www.spoj.com/) are proposed two different solutions that use two different types of Segment Tree, one solution uses the Segment Tree with Persistence technique, and the second solution use a custom implementation of the Segment Tree, wherein each node is stored a Balanced Binary Tree with the element in the range $[L, R]$.\n",
    "\n",
    "## Problem\n",
    "\n",
    "Given an array of $N$ of different integer numbers, the algorithm needs to answer a sequence of queries\n",
    "with the following format $Q(L, R, K)$ where $L$ and $R$ is the range $[L, R]$ where the algorithm needs to return the $Kth$ element in the range.\n",
    "\n",
    "\n",
    "In particular, the query needs to be able to answer a question like \"What would be the k-th number in a range $[i, j]$, if this the element of this\n",
    "subarray was sorted?\"\n",
    "\n",
    "#### Example \n",
    "\n",
    "Consider an array like the array A = {1, 5, 2, 6, 3, 7, 4}. Where and query can ask to find the *3rd* number in the sorted segment from _[2, 5].\n",
    "\n",
    "After sorting the elements in the range _[2, 5]_, we get the segment composed from the following element {2, 3, 5, 6} and the third number in the range is 5, and therefore the correct answer to the query is 5.\n",
    "\n",
    "## Solution with a custom implementation of Segment Tree.\n",
    "\n",
    "The basic idea to solve this problem is to store a Balanced Binary Tree in each node of the segment, the balanced binary tree help to maintain the element stored inside the segments.\n",
    "An implementation is available on the Github repository [Competitive-Programming-and-Contests-VP-Solution](https://github.com/vincenzopalazzo/Competitive-Programming-and-Contests-VP-Solution).\n",
    "However, the time complexity is not enough to solve the problem with the online Judge, and the C++ solution that gets a Time Limit Exceeded available at the following [link](https://www.spoj.com/status/MKTHNUM,macros1/).\n",
    "\n",
    "To solve with success the problem with the online Judge we need to use Persistent Tree, and the solution is described in the next section.\n",
    "\n",
    "## Solution with Persistent Segment Tree\n",
    "\n",
    "Before introducing the solution, we need to introduce a limitation in the previous solution, that is on the Sorting element, in this problem, there isn't a present update query and this meant that the input array will not change during the execution of the algorithm. With this observation, we can say that is possible to sort the array before build the segment tree and it can help to improve the solution time of the previous solution.\n",
    "\n",
    "The solution with Persistent Segment Tree uses this observation to make a simple remapping of them and build an incremental Persistent Segment Tree, and as the last step of the algorithm, we perform all the query of the problem on the Segment Tree, in the range of $[L, R]$ were in the case of Persistent Segment Tree is to perform a query in two instances of the Segment Tree, on is the instance in position L and the last one is the instance in position R. After that the algorithm performs a binary search to find the kth element in the range. The code solution is available on [Competitive-Programming-and-Contests-VP-Solution](https://github.com/vincenzopalazzo/Competitive-Programming-and-Contests-VP-Solution).\n",
    "\n",
    "This solution is faster than the solution in the previous section because the time complexity is $\\mathcal{O}(Q \\log N)$ where the Q is the number of query and N is the size of the array, but on the other hand, the space complexity is more complex to calculate because the Persistent Segment Tree contains also a vector with the history of the data struct where the head element in these data structure can contain \\log N new element. "
   ]
  },
  {
   "cell_type": "markdown",
   "id": "forward-capture",
   "metadata": {},
   "source": [
    "## Benchmark Discussion\n",
    "\n",
    "To compare the solution two solution proposed in the previois section, is used a micro benchmarck library as Google Benckmark to compare the two solution during the exection of it. This section contains a complete discussion of the results."
   ]
  },
  {
   "cell_type": "code",
   "execution_count": 1,
   "id": "vertical-effort",
   "metadata": {},
   "outputs": [
    {
     "data": {
      "image/png": "[encoded data removed]",
      "text/plain": [
       "<Figure size 1440x360 with 1 Axes>"
      ]
     },
     "metadata": {},
     "output_type": "display_data"
    }
   ],
   "source": [
    "from core_chart import ( make_segment_tree_and_persistent_segmet_tree_benchmark_chart, \n",
    "make_segment_tree_and_persistent_segmet_tree_benchmark_table )\n",
    "\n",
    "make_segment_tree_and_persistent_segmet_tree_benchmark_chart()"
   ]
  },
  {
   "cell_type": "code",
   "execution_count": 4,
   "id": "stable-silicon",
   "metadata": {},
   "outputs": [
    {
     "data": {
      "text/html": [
       "\n",
       "<style>\n",
       "    div#notebook-container    { width: 95%; }\n",
       "    div#menubar-container     { width: 65%; }\n",
       "    div#maintoolbar-container { width: 99%; }\n",
       "</style>\n"
      ],
      "text/plain": [
       "<IPython.core.display.HTML object>"
      ]
     },
     "metadata": {},
     "output_type": "display_data"
    },
    {
     "data": {
      "text/html": [
       "<div>\n",
       "<style scoped>\n",
       "    .dataframe tbody tr th:only-of-type {\n",
       "        vertical-align: middle;\n",
       "    }\n",
       "\n",
       "    .dataframe tbody tr th {\n",
       "        vertical-align: top;\n",
       "    }\n",
       "\n",
       "    .dataframe thead th {\n",
       "        text-align: right;\n",
       "    }\n",
       "</style>\n",
       "<table border=\"1\" class=\"dataframe\">\n",
       "  <thead>\n",
       "    <tr style=\"text-align: right;\">\n",
       "      <th></th>\n",
       "      <th>Persistent Segment Tree</th>\n",
       "      <th>Custom Segment Tree</th>\n",
       "    </tr>\n",
       "  </thead>\n",
       "  <tbody>\n",
       "    <tr>\n",
       "      <th>Q: 4</th>\n",
       "      <td>57642648688.000916 ns</td>\n",
       "      <td>38966243126.99896 ns</td>\n",
       "    </tr>\n",
       "    <tr>\n",
       "      <th>Q: 8</th>\n",
       "      <td>55842193433.99309 ns</td>\n",
       "      <td>38115228559.99828 ns</td>\n",
       "    </tr>\n",
       "    <tr>\n",
       "      <th>Q: 16</th>\n",
       "      <td>61573267574.00005 ns</td>\n",
       "      <td>42337273312.99997 ns</td>\n",
       "    </tr>\n",
       "    <tr>\n",
       "      <th>Q: 32</th>\n",
       "      <td>62660775567.004745 ns</td>\n",
       "      <td>84876541783.0 ns</td>\n",
       "    </tr>\n",
       "    <tr>\n",
       "      <th>Q: 64</th>\n",
       "      <td>57592852565.00152 ns</td>\n",
       "      <td>125670119671.00006 ns</td>\n",
       "    </tr>\n",
       "    <tr>\n",
       "      <th>Q: 128</th>\n",
       "      <td>51162499106.00163 ns</td>\n",
       "      <td>193710662405.00113 ns</td>\n",
       "    </tr>\n",
       "    <tr>\n",
       "      <th>Q: 256</th>\n",
       "      <td>53811262555.00567 ns</td>\n",
       "      <td>377359894010.99866 ns</td>\n",
       "    </tr>\n",
       "    <tr>\n",
       "      <th>Q: 512</th>\n",
       "      <td>53680732222.00474 ns</td>\n",
       "      <td>580985333179.9987 ns</td>\n",
       "    </tr>\n",
       "    <tr>\n",
       "      <th>Q: 1024</th>\n",
       "      <td>49803293349.99988 ns</td>\n",
       "      <td>1225670039757.0002 ns</td>\n",
       "    </tr>\n",
       "    <tr>\n",
       "      <th>Q: 2048</th>\n",
       "      <td>46770501815.0009 ns</td>\n",
       "      <td>2639171862127.9995 ns</td>\n",
       "    </tr>\n",
       "    <tr>\n",
       "      <th>Q: 4096</th>\n",
       "      <td>46391210179.99423 ns</td>\n",
       "      <td>5254978207839.0 ns</td>\n",
       "    </tr>\n",
       "    <tr>\n",
       "      <th>Q: 8192</th>\n",
       "      <td>46273517681.001976 ns</td>\n",
       "      <td>10700194038434.002 ns</td>\n",
       "    </tr>\n",
       "    <tr>\n",
       "      <th>Q: 16384</th>\n",
       "      <td>45852934573.9953 ns</td>\n",
       "      <td>21003378790614.0 ns</td>\n",
       "    </tr>\n",
       "  </tbody>\n",
       "</table>\n",
       "</div>"
      ],
      "text/plain": [
       "         Persistent Segment Tree    Custom Segment Tree\n",
       "Q: 4       57642648688.000916 ns   38966243126.99896 ns\n",
       "Q: 8        55842193433.99309 ns   38115228559.99828 ns\n",
       "Q: 16       61573267574.00005 ns   42337273312.99997 ns\n",
       "Q: 32      62660775567.004745 ns       84876541783.0 ns\n",
       "Q: 64       57592852565.00152 ns  125670119671.00006 ns\n",
       "Q: 128      51162499106.00163 ns  193710662405.00113 ns\n",
       "Q: 256      53811262555.00567 ns  377359894010.99866 ns\n",
       "Q: 512      53680732222.00474 ns   580985333179.9987 ns\n",
       "Q: 1024     49803293349.99988 ns  1225670039757.0002 ns\n",
       "Q: 2048      46770501815.0009 ns  2639171862127.9995 ns\n",
       "Q: 4096     46391210179.99423 ns     5254978207839.0 ns\n",
       "Q: 8192    46273517681.001976 ns  10700194038434.002 ns\n",
       "Q: 16384     45852934573.9953 ns    21003378790614.0 ns"
      ]
     },
     "metadata": {},
     "output_type": "display_data"
    }
   ],
   "source": [
    "make_segment_tree_and_persistent_segmet_tree_benchmark_table()"
   ]
  }
 ],
 "metadata": {
  "kernelspec": {
   "display_name": "Python 3",
   "language": "python",
   "name": "python3"
  },
  "language_info": {
   "codemirror_mode": {
    "name": "ipython",
    "version": 3
   },
   "file_extension": ".py",
   "mimetype": "text/x-python",
   "name": "python",
   "nbconvert_exporter": "python",
   "pygments_lexer": "ipython3",
   "version": "3.8.5"
  }
 },
 "nbformat": 4,
 "nbformat_minor": 5
}
